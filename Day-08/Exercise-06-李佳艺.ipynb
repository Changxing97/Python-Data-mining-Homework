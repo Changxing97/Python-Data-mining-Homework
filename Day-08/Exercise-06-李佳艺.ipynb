{
 "cells": [
  {
   "cell_type": "markdown",
   "metadata": {},
   "source": [
    "使用正则表达式提取字符串中包含的所有手机号码"
   ]
  },
  {
   "cell_type": "code",
   "execution_count": null,
   "metadata": {},
   "outputs": [],
   "source": [
    "import re\n",
    "text = input(\"请输入文本：\")\n",
    "phone = re.findall(r\"1\\d{10}\",text)\n",
    "print(phone)"
   ]
  },
  {
   "cell_type": "markdown",
   "metadata": {},
   "source": [
    "使用正则表达式判断字符串是否为邮箱地址"
   ]
  },
  {
   "cell_type": "code",
   "execution_count": null,
   "metadata": {
    "scrolled": true
   },
   "outputs": [],
   "source": [
    "import re\n",
    "def E(email):\n",
    "    pattern = r'^[a-zA-Z0-9_-]+@[a-zA-Z0-9_-]+(\\.[a-zA-Z0-9_-]+)+$'\n",
    "    if re.match(pattern,email) is not None:\n",
    "        print(\"邮箱地址正确\")\n",
    "    else:\n",
    "        print(\"您输入的并非邮箱地址\")\n",
    "inputemail=input(\"请输入邮箱\")\n",
    "judge= E(inputemail)\n",
    "print(judge)"
   ]
  },
  {
   "cell_type": "markdown",
   "metadata": {},
   "source": [
    "使用正则表达式提取网页源代码中的所有Url"
   ]
  },
  {
   "cell_type": "code",
   "execution_count": null,
   "metadata": {},
   "outputs": [],
   "source": [
    "import re\n",
    "def get_urls(text):\n",
    "    urls=re.findall(r\"(http[s]?://(?:[a-zA-Z]|[0-9]|[$-_@.&+]|[!*,]|(?:%[0-9a-fA-F][0-9a-fA-F]))+)|([a-zA-Z]+.\\w+\\.+[a-zA-Z0-9\\/_]+)\",text)\n",
    "    return urls\n",
    "print(get_urls)"
   ]
  }
 ],
 "metadata": {
  "kernelspec": {
   "display_name": "Python 3",
   "language": "python",
   "name": "python3"
  },
  "language_info": {
   "codemirror_mode": {
    "name": "ipython",
    "version": 3
   },
   "file_extension": ".py",
   "mimetype": "text/x-python",
   "name": "python",
   "nbconvert_exporter": "python",
   "pygments_lexer": "ipython3",
   "version": "3.7.6"
  }
 },
 "nbformat": 4,
 "nbformat_minor": 4
}
