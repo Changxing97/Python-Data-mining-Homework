{
 "cells": [
  {
   "cell_type": "markdown",
   "metadata": {},
   "source": [
    "1、百分制成绩转换为等级制成绩\n",
    "\n",
    "要求：如果输入的成绩在90分以上（含90分）输出A；80分-90分（不含90分）输出B；70分-80分（不含80分）输出C；60分-70分（不含70分）输出D；60分以下输出E。"
   ]
  },
  {
   "cell_type": "code",
   "execution_count": 1,
   "metadata": {},
   "outputs": [
    {
     "name": "stdout",
     "output_type": "stream",
     "text": [
      "请输入你的分数 89\n",
      "您获得的等级是 B\n"
     ]
    }
   ],
   "source": [
    "score=float(input(\"请输入你的分数 \"))\n",
    "if score>=90:\n",
    "    G=\"A\"\n",
    "elif score>=80:\n",
    "    G=\"B\"\n",
    "elif score>=70:\n",
    "    G=\"C\"\n",
    "elif score>=60:\n",
    "    G=\"D\"\n",
    "else:\n",
    "    G=\"E\"\n",
    "print(\"您获得的等级是\",G)"
   ]
  },
  {
   "cell_type": "markdown",
   "metadata": {},
   "source": [
    "2、输入三条边长判断能否构成三角形"
   ]
  },
  {
   "cell_type": "code",
   "execution_count": 2,
   "metadata": {},
   "outputs": [
    {
     "name": "stdout",
     "output_type": "stream",
     "text": [
      "请随意输入一条边长 3\n",
      "请随意输入一条边长 5\n",
      "输入最后一条边长啦 4\n",
      "这是一个完美的三角形！\n"
     ]
    }
   ],
   "source": [
    "a=float(input(\"请随意输入一条边长 \"))\n",
    "b=float(input(\"请随意输入一条边长 \"))\n",
    "c=float(input(\"输入最后一条边长啦 \"))\n",
    "if a+b>c and a+c>b and b+c>a and abs(a-b)<c and abs(a-c)<b and abs(b-c)<a:\n",
    "    print(\"这是一个完美的三角形！\")\n",
    "else:\n",
    "    print(\"三条线组不成三角形呢\")"
   ]
  },
  {
   "cell_type": "markdown",
   "metadata": {},
   "source": [
    "3、判断是否为质数"
   ]
  },
  {
   "cell_type": "code",
   "execution_count": 4,
   "metadata": {},
   "outputs": [
    {
     "name": "stdout",
     "output_type": "stream",
     "text": [
      "请输入一个数字：23\n",
      "这是一个质数\n"
     ]
    }
   ],
   "source": [
    "n=int(input(\"请输入一个数字：\"))\n",
    "for i in range(2, n):\n",
    "    if n % i == 0:\n",
    "        print(\"这不是个质数\")\n",
    "        break\n",
    "else:\n",
    "    print(\"这是一个质数\")"
   ]
  },
  {
   "cell_type": "markdown",
   "metadata": {},
   "source": [
    "4、打印九九乘法表"
   ]
  },
  {
   "cell_type": "code",
   "execution_count": 5,
   "metadata": {},
   "outputs": [
    {
     "name": "stdout",
     "output_type": "stream",
     "text": [
      "1*1= 1 1*2= 2 1*3= 3 1*4= 4 1*5= 5 1*6= 6 1*7= 7 1*8= 8 1*9= 9 \n",
      "2*2= 4 2*3= 6 2*4= 8 2*5=10 2*6=12 2*7=14 2*8=16 2*9=18 \n",
      "3*3= 9 3*4=12 3*5=15 3*6=18 3*7=21 3*8=24 3*9=27 \n",
      "4*4=16 4*5=20 4*6=24 4*7=28 4*8=32 4*9=36 \n",
      "5*5=25 5*6=30 5*7=35 5*8=40 5*9=45 \n",
      "6*6=36 6*7=42 6*8=48 6*9=54 \n",
      "7*7=49 7*8=56 7*9=63 \n",
      "8*8=64 8*9=72 \n",
      "9*9=81 \n"
     ]
    }
   ],
   "source": [
    "for x in range(1,10,1):\n",
    "    for y in range(x,10,1):\n",
    "        print(\"%d*%d=%2d \" % (x,y,x*y), end=\"\")\n",
    "    print(\"\")"
   ]
  },
  {
   "cell_type": "markdown",
   "metadata": {},
   "source": [
    "5、判断是否未互质数"
   ]
  },
  {
   "cell_type": "code",
   "execution_count": 6,
   "metadata": {},
   "outputs": [
    {
     "name": "stdout",
     "output_type": "stream",
     "text": [
      "请输入一个数：21\n",
      "请输入一个数：4\n",
      "两个数互质\n"
     ]
    }
   ],
   "source": [
    "x=int(input(\"请输入一个数：\"))\n",
    "y=int(input(\"请输入一个数：\"))\n",
    "if x>y:\n",
    "    x,y=y,x\n",
    "for i in range(2,x+1,1):\n",
    "    if x % i == 0 and y % i == 0:\n",
    "        print(\"两个数不互质\")\n",
    "        break\n",
    "else: \n",
    "        print(\"两个数互质\")"
   ]
  }
 ],
 "metadata": {
  "kernelspec": {
   "display_name": "Python 3",
   "language": "python",
   "name": "python3"
  },
  "language_info": {
   "codemirror_mode": {
    "name": "ipython",
    "version": 3
   },
   "file_extension": ".py",
   "mimetype": "text/x-python",
   "name": "python",
   "nbconvert_exporter": "python",
   "pygments_lexer": "ipython3",
   "version": "3.7.6"
  }
 },
 "nbformat": 4,
 "nbformat_minor": 4
}
