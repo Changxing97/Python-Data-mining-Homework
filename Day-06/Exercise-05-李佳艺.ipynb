{
 "cells": [
  {
   "cell_type": "markdown",
   "metadata": {},
   "source": [
    "使用迭代的方法实现菲波那切数列的计算"
   ]
  },
  {
   "cell_type": "code",
   "execution_count": 1,
   "metadata": {},
   "outputs": [
    {
     "name": "stdout",
     "output_type": "stream",
     "text": [
      "需要输出前几项结果：5\n",
      "1\n",
      "1\n",
      "2\n",
      "3\n",
      "5\n"
     ]
    }
   ],
   "source": [
    "n=int(input(\"需要输出前几项结果：\"))\n",
    "def sequence(max):\n",
    "    a,b=0,1\n",
    "    while max > 0:\n",
    "        a, b = b, a + b\n",
    "        max -= 1\n",
    "        yield a\n",
    "for i in sequence(n):\n",
    "    print(i)"
   ]
  },
  {
   "cell_type": "markdown",
   "metadata": {},
   "source": [
    "将Day02中计算有效互动比的方法写为函数"
   ]
  },
  {
   "cell_type": "code",
   "execution_count": 2,
   "metadata": {},
   "outputs": [
    {
     "name": "stdout",
     "output_type": "stream",
     "text": [
      "请输入粉丝数：2000\n",
      "请输入互动数：500\n",
      "该明星的有效互动数为 0.25\n"
     ]
    }
   ],
   "source": [
    "x=int(input(\"请输入粉丝数：\"))\n",
    "y=int(input(\"请输入互动数：\"))\n",
    "def ratio(x,y):\n",
    "    return y/x\n",
    "print(\"该明星的有效互动数为\",ratio(x,y))"
   ]
  }
 ],
 "metadata": {
  "kernelspec": {
   "display_name": "Python 3",
   "language": "python",
   "name": "python3"
  },
  "language_info": {
   "codemirror_mode": {
    "name": "ipython",
    "version": 3
   },
   "file_extension": ".py",
   "mimetype": "text/x-python",
   "name": "python",
   "nbconvert_exporter": "python",
   "pygments_lexer": "ipython3",
   "version": "3.7.6"
  }
 },
 "nbformat": 4,
 "nbformat_minor": 4
}
