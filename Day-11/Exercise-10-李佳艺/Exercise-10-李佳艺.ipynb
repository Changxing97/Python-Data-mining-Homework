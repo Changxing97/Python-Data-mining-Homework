{
 "cells": [
  {
   "cell_type": "code",
   "execution_count": 3,
   "metadata": {},
   "outputs": [],
   "source": [
    "import openpyxl\n",
    "import json\n",
    "\n",
    "def read(file):\n",
    "    with open(file, 'r', encoding='utf-8') as f:\n",
    "        word = json.load(f)\n",
    "        data = word[\"data\"]\n",
    "    f.close()\n",
    "    return data\n",
    "\n",
    "def write(file):\n",
    "    context = read(file)\n",
    "    excel = openpyxl.Workbook()\n",
    "    sheet = excel.create_sheet('sheet', index=0)\n",
    "    sheet['A1'] = \"类别\"\n",
    "    sheet['B1'] = \"发布时间\"\n",
    "    sheet['C1'] = \"发布者\"\n",
    "    sheet['D1'] = \"弹幕内容\"\n",
    "    sheet.column_dimensions['A'].width = 10\n",
    "    sheet.column_dimensions['B'].width = 20\n",
    "    sheet.column_dimensions['C'].width = 20\n",
    "    sheet.column_dimensions['D'].width = 70\n",
    "\n",
    "    for i in range(0, len(context)):\n",
    "        for j in range(0, 4):\n",
    "            sheet.cell(row=i + 2, column=j + 1).value = context[i][j]\n",
    "          \n",
    "\n",
    "    excel.save(\"弹幕文件.xlsx\")\n",
    "    \n",
    "if __name__ == '__main__':\n",
    "    write('F:\\\\实验室\\\\jupyter\\\\聆听丶芒果鱼直播间时间切片弹幕.json')"
   ]
  }
 ],
 "metadata": {
  "kernelspec": {
   "display_name": "Python 3",
   "language": "python",
   "name": "python3"
  },
  "language_info": {
   "codemirror_mode": {
    "name": "ipython",
    "version": 3
   },
   "file_extension": ".py",
   "mimetype": "text/x-python",
   "name": "python",
   "nbconvert_exporter": "python",
   "pygments_lexer": "ipython3",
   "version": "3.7.6"
  }
 },
 "nbformat": 4,
 "nbformat_minor": 4
}
