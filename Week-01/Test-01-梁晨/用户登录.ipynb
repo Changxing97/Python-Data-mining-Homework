{
 "cells": [
  {
   "cell_type": "code",
   "execution_count": null,
   "metadata": {
    "ExecuteTime": {
     "start_time": "2020-05-08T09:58:28.892Z"
    }
   },
   "outputs": [],
   "source": [
    "#先设定初始用户名和登录密码\n",
    "init_usrname=input('Please enter initial username:')\n",
    "init_password=input('Please enter initial password:')\n",
    "#打印输出设置好的用户名和初始登录密码\n",
    "print (init_usrname)\n",
    "print (init_password)\n",
    " \n",
    "#进入登录见面，flag0指的是输入密码的错误次数\n",
    "#flag1指的是登录成功标志位\n",
    "flag0=0\n",
    "flag1=0\n",
    "print('>>>User Login<<<')\n",
    " \n",
    "while True:\n",
    "#提示用户输入用户名\n",
    "    usr=input('请输入用户名')\n",
    "    if usr==init_usrname:\n",
    "    #输入用户名正确则进入到输入登录密码阶段\n",
    "        #判断输错登录密码次数\n",
    "        while flag0<3:\n",
    "            password=input('请输入密码')\n",
    "            if password==init_password:\n",
    "            #若密码输入正确则登录成功因而跳出循环\n",
    "                print('登陆成功!')\n",
    "                flag1=1\n",
    "                break\n",
    "            else:\n",
    "            #计算输错次数，每输错一次flag加一\n",
    "                flag0 +=1\n",
    "                if flag0<=2:\n",
    "                   print('用户名或密码错误，若连续3次错误则自动锁死账号!')\n",
    "    #输错三次跳出输入登录密码环节重新进行用户名的输入，相应地flag也要归零\n",
    "        if flag1==1:\n",
    "             break\n",
    "        flag0=0\n",
    "        print ('因连续3次输入用户名或密码错误，账号已锁死')\n",
    "    else:\n",
    "        print ('用户名错误')"
   ]
  },
  {
   "cell_type": "code",
   "execution_count": null,
   "metadata": {},
   "outputs": [],
   "source": []
  }
 ],
 "metadata": {
  "kernelspec": {
   "display_name": "Python 3",
   "language": "python",
   "name": "python3"
  },
  "language_info": {
   "codemirror_mode": {
    "name": "ipython",
    "version": 3
   },
   "file_extension": ".py",
   "mimetype": "text/x-python",
   "name": "python",
   "nbconvert_exporter": "python",
   "pygments_lexer": "ipython3",
   "version": "3.8.2"
  },
  "varInspector": {
   "cols": {
    "lenName": 16,
    "lenType": 16,
    "lenVar": 40
   },
   "kernels_config": {
    "python": {
     "delete_cmd_postfix": "",
     "delete_cmd_prefix": "del ",
     "library": "var_list.py",
     "varRefreshCmd": "print(var_dic_list())"
    },
    "r": {
     "delete_cmd_postfix": ") ",
     "delete_cmd_prefix": "rm(",
     "library": "var_list.r",
     "varRefreshCmd": "cat(var_dic_list()) "
    }
   },
   "types_to_exclude": [
    "module",
    "function",
    "builtin_function_or_method",
    "instance",
    "_Feature"
   ],
   "window_display": false
  }
 },
 "nbformat": 4,
 "nbformat_minor": 4
}
