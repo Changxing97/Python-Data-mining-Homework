{
 "cells": [
  {
   "cell_type": "markdown",
   "metadata": {},
   "source": [
    "解法一"
   ]
  },
  {
   "cell_type": "code",
   "execution_count": 2,
   "metadata": {},
   "outputs": [
    {
     "name": "stdout",
     "output_type": "stream",
     "text": [
      "请输入用户名：1\n",
      "请输入密码：2\n",
      "用户名或密码错误，你还有2次机会\n",
      "请输入用户名：1\n",
      "请输入密码：2\n",
      "用户名或密码错误，你还有1次机会\n",
      "请输入用户名：1\n",
      "请输入密码：2\n",
      "因连续3次输入用户名或密码错误，账号已锁死\n"
     ]
    }
   ],
   "source": [
    "x=False\n",
    "for i in range(1,4):\n",
    "    name=input(\"请输入用户名：\")\n",
    "    password=input(\"请输入密码：\")\n",
    "    if name==\"LEE\" and password==\"12345\":\n",
    "        print(\"登陆成功！\")\n",
    "        x=True\n",
    "        break\n",
    "    else:\n",
    "        if i!=3:\n",
    "            print(\"用户名或密码错误，你还有%d次机会\"%(3-i))\n",
    "if not x:\n",
    "    print(\"因连续3次输入用户名或密码错误，账号已锁死\")"
   ]
  },
  {
   "cell_type": "markdown",
   "metadata": {},
   "source": [
    "解法二"
   ]
  },
  {
   "cell_type": "code",
   "execution_count": 3,
   "metadata": {},
   "outputs": [
    {
     "name": "stdout",
     "output_type": "stream",
     "text": [
      "用户名或密码错误，若连续3次错误则自动锁死账号\n",
      "用户名或密码错误，若连续3次错误则自动锁死账号\n",
      "登陆成功！\n",
      "登陆成功！\n"
     ]
    }
   ],
   "source": [
    "i=1\n",
    "while i<=3:\n",
    "    name=input(\"请输入用户名：\")\n",
    "    password=input(\"请输入密码：\")\n",
    "    i=i+1\n",
    "    if name==\"LEE\" and password==\"12345\":\n",
    "        print(\"登陆成功！\")\n",
    "        break\n",
    "    else:\n",
    "        print(\"用户名或密码错误，若连续3次错误则自动锁死账号\")\n",
    "while i>3 and i<5:\n",
    "    if name==\"LEE\" and password==\"12345\":\n",
    "        print(\"登陆成功！\")\n",
    "        break\n",
    "    else:\n",
    "        print(\"因连续3次输入用户名或密码错误，账号已锁死\")\n",
    "    break"
   ]
  }
 ],
 "metadata": {
  "kernelspec": {
   "display_name": "Python 3",
   "language": "python",
   "name": "python3"
  },
  "language_info": {
   "codemirror_mode": {
    "name": "ipython",
    "version": 3
   },
   "file_extension": ".py",
   "mimetype": "text/x-python",
   "name": "python",
   "nbconvert_exporter": "python",
   "pygments_lexer": "ipython3",
   "version": "3.7.6"
  }
 },
 "nbformat": 4,
 "nbformat_minor": 4
}