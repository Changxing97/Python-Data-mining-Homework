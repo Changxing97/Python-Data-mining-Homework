{
 "cells": [
  {
   "cell_type": "markdown",
   "metadata": {},
   "source": [
    "第一题 根据用户输入的华氏度，将其转换为摄氏度"
   ]
  },
  {
   "cell_type": "code",
   "execution_count": 1,
   "metadata": {},
   "outputs": [
    {
     "name": "stdout",
     "output_type": "stream",
     "text": [
      "请输入华氏度: 64\n",
      "64华氏度 转换为摄氏度后的值为 17.77777777777778\n"
     ]
    }
   ],
   "source": [
    "F=input(\"请输入华氏度: \")\n",
    "C=(int(F)-32)/1.8\n",
    "print(F+\"华氏度\",\"转换为摄氏度后的值为\",str(C))"
   ]
  },
  {
   "cell_type": "markdown",
   "metadata": {},
   "source": [
    "第二题 根据用户输入的圆的半径，计算圆的周长和面积"
   ]
  },
  {
   "cell_type": "code",
   "execution_count": 2,
   "metadata": {},
   "outputs": [
    {
     "name": "stdout",
     "output_type": "stream",
     "text": [
      "请随意输入一个半径 2.2\n",
      "这个圆的周长是 13.823007675795091 面积是 15.205308443374602\n"
     ]
    }
   ],
   "source": [
    "import math\n",
    "r=input(\"请随意输入一个半径 \")\n",
    "pi=math.pi\n",
    "L=float(2*pi*float(r))\n",
    "S=float(float(r)**2*pi)\n",
    "print(\"这个圆的周长是\",L,\"面积是\",S)"
   ]
  },
  {
   "cell_type": "markdown",
   "metadata": {},
   "source": [
    "第三题 根据用户输入的粉丝量和互动量，计算有效互动比"
   ]
  },
  {
   "cell_type": "code",
   "execution_count": 6,
   "metadata": {},
   "outputs": [
    {
     "name": "stdout",
     "output_type": "stream",
     "text": [
      "请输入粉丝量：20000\n",
      "请输入互动量：500\n",
      "有效互动比为: 0.025\n"
     ]
    }
   ],
   "source": [
    "fans=input(\"请输入粉丝量：\")\n",
    "ex=input(\"请输入互动量：\")\n",
    "x=float(ex)/int(fans)\n",
    "print(\"有效互动比为:\",str(x))"
   ]
  }
 ],
 "metadata": {
  "kernelspec": {
   "display_name": "Python 3",
   "language": "python",
   "name": "python3"
  },
  "language_info": {
   "codemirror_mode": {
    "name": "ipython",
    "version": 3
   },
   "file_extension": ".py",
   "mimetype": "text/x-python",
   "name": "python",
   "nbconvert_exporter": "python",
   "pygments_lexer": "ipython3",
   "version": "3.7.6"
  }
 },
 "nbformat": 4,
 "nbformat_minor": 4
}
