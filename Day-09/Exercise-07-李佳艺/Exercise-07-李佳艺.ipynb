{
 "cells": [
  {
   "cell_type": "markdown",
   "metadata": {},
   "source": [
    "将当前文件夹下的“聆听丶芒果鱼直播间时间切片弹幕.json”转存为txt格式，转存要求如下： 将弹幕类型为(列表中的第1项)为“NM”的弹幕的弹幕内容(列表中的第4项)取出，存为一条弹幕一行的txt格式。"
   ]
  },
  {
   "cell_type": "code",
   "execution_count": null,
   "metadata": {},
   "outputs": [],
   "source": [
    "import json\n",
    "with open('F:\\\\实验室\\\\jupyter\\\\聆听丶芒果鱼直播间时间切片弹幕.json','r', encoding='utf-8') as f:\n",
    "    content = json.loads(f.read())\n",
    "    list1 = content[\"data\"]\n",
    "    list2 = []\n",
    "    for i in list1:\n",
    "        if i[0] == \"NM\":\n",
    "            x = i[3]\n",
    "            list2.append(x)\n",
    "            line = str('\\n'.join(list2))\n",
    "    print(line)\n",
    "    \n",
    "with open(\"result.txt\", \"w\",encoding=\"utf-8\") as fs:\n",
    "\tfs.write(line)"
   ]
  }
 ],
 "metadata": {
  "kernelspec": {
   "display_name": "Python 3",
   "language": "python",
   "name": "python3"
  },
  "language_info": {
   "codemirror_mode": {
    "name": "ipython",
    "version": 3
   },
   "file_extension": ".py",
   "mimetype": "text/x-python",
   "name": "python",
   "nbconvert_exporter": "python",
   "pygments_lexer": "ipython3",
   "version": "3.7.6"
  }
 },
 "nbformat": 4,
 "nbformat_minor": 4
}
